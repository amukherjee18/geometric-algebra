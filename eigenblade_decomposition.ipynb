{
 "cells": [
  {
   "cell_type": "markdown",
   "id": "487440d2",
   "metadata": {},
   "source": [
    "## Decomposition Methods"
   ]
  },
  {
   "cell_type": "code",
   "execution_count": 27,
   "id": "d3f6e97d",
   "metadata": {},
   "outputs": [],
   "source": [
    "from clifford import Cl\n",
    "import sympy as sp\n",
    "import cmath\n",
    "import numpy as np\n",
    "\n",
    "layout, blades = Cl(3)\n",
    "\n",
    "def get_decomposition_tuples(matrix, approach=1):\n",
    "    eigen_data = matrix.eigenvects()\n",
    "    real_eigenpairs = []\n",
    "    complex_structure = []\n",
    "\n",
    "    processed = set()\n",
    "    \n",
    "    for eigenval, mult, vects in eigen_data:\n",
    "        if not sp.im(eigenval):\n",
    "            for vec in vects:\n",
    "                vec_real = [float(val.evalf()) for val in vec]\n",
    "                mv = sum(val * blade for val, blade in zip(vec_real, layout.basis_vectors_lst))\n",
    "                real_eigenpairs.append((float(eigenval.evalf()), mv))\n",
    "        else:\n",
    "            # the if check below has issues (e.g. pi/2 rotation in e12 and e34 so we'll have i show up twice)\n",
    "            if str(eigenval) in processed or str(sp.conjugate(eigenval)) in processed: \n",
    "                continue\n",
    "            \n",
    "            processed.add(str(eigenval))\n",
    "            λ = complex(eigenval.evalf())\n",
    "            c_k = abs(λ)\n",
    "            θ_k = cmath.phase(λ)\n",
    "            \n",
    "            # Approach 1\n",
    "            if approach == 1:\n",
    "                vec = vects[0]\n",
    "                vec_re = sp.re(vec).applyfunc(lambda x: float(sp.N(x)))\n",
    "                vec_im = sp.im(vec).applyfunc(lambda x: float(sp.N(x)))\n",
    "\n",
    "                vec_re_vals = [float(x) for x in vec_re]\n",
    "                vec_im_vals = [float(x) for x in vec_im]\n",
    "\n",
    "                mv_re = sum(val * blade for val, blade in zip(vec_re_vals, layout.basis_vectors_lst))\n",
    "                mv_im = sum(val * blade for val, blade in zip(vec_im_vals, layout.basis_vectors_lst))\n",
    "\n",
    "                # Issue when I reverse the order of the below wedge product\n",
    "                B_k = mv_im ^ mv_re\n",
    "            else:\n",
    "                # Approach 2:\n",
    "                v_complex     = mv_re + 1j * mv_im\n",
    "                v_conjugate   = mv_re - 1j * mv_im\n",
    "\n",
    "                # Compute bivector from imaginary part of v ^ v̄\n",
    "                bivector_complex = v_complex ^ v_conjugate  # Complex-valued multivector\n",
    "                imag_part = sum(mv.imag * blade for mv, blade in zip(bivector_complex.value, layout.blades_list))\n",
    "                B_k = 0.5 * imag_part  # Real bivector representing the plane\n",
    "            \n",
    "            \n",
    "            B_k_hat = B_k / (B_k | ~B_k)\n",
    "            \n",
    "            complex_structure.append((c_k, B_k, θ_k))\n",
    "\n",
    "    return real_eigenpairs, complex_structure\n",
    "\n",
    "\n",
    "def rotor(B, theta):\n",
    "    \"\"\"\n",
    "    Construct rotor R = exp(- B̂ * theta / 2)\n",
    "    where B̂ is the unit bivector (B / |B|).\n",
    "    \"\"\"\n",
    "    B_sq_scalar = (B * B)[()]  # Get scalar (grade-0) part of B²\n",
    "    if B_sq_scalar >= 0:\n",
    "        raise ValueError(\"Bivector square is not negative. Cannot construct rotor.\")\n",
    "    B_norm = (-B_sq_scalar) ** 0.5\n",
    "    B_hat = B / B_norm\n",
    "    return (-B_hat * theta / 2).exp()\n",
    "\n",
    "\n",
    "def decomposition(A):\n",
    "    \n",
    "    real_part, complex_part = get_decomposition_tuples(A)\n",
    "    print(f\"Real Part: {real_part}\")\n",
    "    print(f\"Complex Part: {complex_part}\")\n",
    "    \n",
    "    def operator(a):\n",
    "        result = layout.MultiVector()\n",
    "        \n",
    "        # Real eigenvalue terms\n",
    "        for λ_k, u_k in real_part:\n",
    "            proj = (a << u_k) * ~u_k / (u_k | u_k)\n",
    "            result += λ_k * proj\n",
    "                    \n",
    "        # Complex pair terms\n",
    "        for c_k, B_k, θ_k in complex_part:\n",
    "            R_k = rotor(B_k, θ_k)\n",
    "            B_proj = (a << B_k) * ~B_k / (B_k | ~B_k)\n",
    "            result += c_k * R_k * B_proj * ~R_k\n",
    "        return result\n",
    "\n",
    "    return operator\n"
   ]
  },
  {
   "cell_type": "markdown",
   "id": "45157770",
   "metadata": {},
   "source": [
    "## Verify decomposition matches usual matrix vector product"
   ]
  },
  {
   "cell_type": "markdown",
   "id": "a11d3f97",
   "metadata": {},
   "source": [
    "### Define Linear Operator"
   ]
  },
  {
   "cell_type": "code",
   "execution_count": 29,
   "id": "57e42453",
   "metadata": {},
   "outputs": [],
   "source": [
    "θ = sp.pi / 2\n",
    "R = sp.Matrix([\n",
    "    [sp.cos(θ), -sp.sin(θ), 0],\n",
    "    [sp.sin(θ),  sp.cos(θ), 0],\n",
    "    [0,          0,         1]\n",
    "])\n",
    "A = 2 * R\n",
    "\n",
    "A = sp.Matrix([\n",
    "    [sp.cos(θ), -sp.sin(θ), 0],\n",
    "    [sp.sin(θ),  sp.cos(θ), 0],\n",
    "    [0,          0,         1]\n",
    "])\n",
    "\n",
    "B = sp.Matrix([\n",
    "    [1, 0, 0],\n",
    "    [0,  sp.cos(θ), -sp.sin(θ)],\n",
    "    [0,          sp.sin(θ),         sp.cos(θ)]\n",
    "])\n",
    "\n",
    "C = A*B"
   ]
  },
  {
   "cell_type": "markdown",
   "id": "a183e2b5",
   "metadata": {},
   "source": [
    "### Decomposition"
   ]
  },
  {
   "cell_type": "code",
   "execution_count": 30,
   "id": "56bd418b",
   "metadata": {
    "scrolled": true
   },
   "outputs": [
    {
     "name": "stdout",
     "output_type": "stream",
     "text": [
      "Real Part: [(1.0, (1.0^e1) + (1.0^e2) + (1.0^e3))]\n",
      "Complex Part: [(0.9999999999999999, -(0.86603^e12) + (0.86603^e13) - (0.86603^e23), -2.0943951023931957)]\n",
      "Output vector: (3.0^e1) + (1.0^e2) + (2.0^e3)\n"
     ]
    }
   ],
   "source": [
    "op = decomposition(C)\n",
    "\n",
    "# Try on some input vector a\n",
    "a = 1 * blades['e1'] + 2 * blades['e2'] + 3 * blades['e3']\n",
    "output = op(a)\n",
    "print(\"Output vector:\", output)"
   ]
  },
  {
   "cell_type": "markdown",
   "id": "3e210adf",
   "metadata": {},
   "source": [
    "### Matrix vector product"
   ]
  },
  {
   "cell_type": "code",
   "execution_count": 31,
   "id": "820a4700",
   "metadata": {},
   "outputs": [
    {
     "data": {
      "text/latex": [
       "$\\displaystyle \\left[\\begin{matrix}3.0\\\\1.0\\\\2.0\\end{matrix}\\right]$"
      ],
      "text/plain": [
       "Matrix([\n",
       "[3.0],\n",
       "[1.0],\n",
       "[2.0]])"
      ]
     },
     "execution_count": 31,
     "metadata": {},
     "output_type": "execute_result"
    }
   ],
   "source": [
    "v = sp.Matrix([1, 2, 3])\n",
    "# v = sp.Matrix([3, -1, 0])\n",
    "Cv = C*v\n",
    "Cv.evalf()"
   ]
  },
  {
   "cell_type": "code",
   "execution_count": null,
   "id": "957a6492",
   "metadata": {},
   "outputs": [],
   "source": []
  }
 ],
 "metadata": {
  "kernelspec": {
   "display_name": "Python 3 (ipykernel)",
   "language": "python",
   "name": "python3"
  },
  "language_info": {
   "codemirror_mode": {
    "name": "ipython",
    "version": 3
   },
   "file_extension": ".py",
   "mimetype": "text/x-python",
   "name": "python",
   "nbconvert_exporter": "python",
   "pygments_lexer": "ipython3",
   "version": "3.8.10"
  }
 },
 "nbformat": 4,
 "nbformat_minor": 5
}
