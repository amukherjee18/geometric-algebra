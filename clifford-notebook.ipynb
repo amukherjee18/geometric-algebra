{
 "cells": [
  {
   "cell_type": "code",
   "execution_count": 1,
   "id": "db34fb21",
   "metadata": {},
   "outputs": [
    {
     "name": "stdout",
     "output_type": "stream",
     "text": [
      "{'': 1, 'e1': (1^e1), 'e2': (1^e2), 'e12': (1^e12)}\n"
     ]
    }
   ],
   "source": [
    "import clifford as cf\n",
    "\n",
    "layout, blades = cf.Cl(2)\n",
    "print(blades)"
   ]
  },
  {
   "cell_type": "code",
   "execution_count": 2,
   "id": "40a6408b",
   "metadata": {},
   "outputs": [],
   "source": [
    "e1 = blades['e1']\n",
    "e2 = blades['e2']\n",
    "e12 = blades['e12']"
   ]
  },
  {
   "cell_type": "code",
   "execution_count": 3,
   "id": "a38df21a",
   "metadata": {},
   "outputs": [
    {
     "name": "stderr",
     "output_type": "stream",
     "text": [
      "/Library/Frameworks/Python.framework/Versions/3.8/lib/python3.8/site-packages/numba/core/decorators.py:262: NumbaDeprecationWarning: numba.generated_jit is deprecated. Please see the documentation at: https://numba.readthedocs.io/en/stable/reference/deprecation.html#deprecation-of-generated-jit for more information and advice on a suitable replacement.\n",
      "  warnings.warn(msg, NumbaDeprecationWarning)\n"
     ]
    },
    {
     "data": {
      "text/plain": [
       "(1^e12)"
      ]
     },
     "execution_count": 3,
     "metadata": {},
     "output_type": "execute_result"
    }
   ],
   "source": [
    "e1*e2"
   ]
  },
  {
   "cell_type": "code",
   "execution_count": 4,
   "id": "7331ce48",
   "metadata": {},
   "outputs": [
    {
     "name": "stderr",
     "output_type": "stream",
     "text": [
      "/Library/Frameworks/Python.framework/Versions/3.8/lib/python3.8/site-packages/numba/core/decorators.py:262: NumbaDeprecationWarning: numba.generated_jit is deprecated. Please see the documentation at: https://numba.readthedocs.io/en/stable/reference/deprecation.html#deprecation-of-generated-jit for more information and advice on a suitable replacement.\n",
      "  warnings.warn(msg, NumbaDeprecationWarning)\n"
     ]
    },
    {
     "data": {
      "text/plain": [
       "0"
      ]
     },
     "execution_count": 4,
     "metadata": {},
     "output_type": "execute_result"
    }
   ],
   "source": [
    "e1|e2"
   ]
  },
  {
   "cell_type": "code",
   "execution_count": 5,
   "id": "2aae5c2b",
   "metadata": {},
   "outputs": [
    {
     "name": "stderr",
     "output_type": "stream",
     "text": [
      "/Library/Frameworks/Python.framework/Versions/3.8/lib/python3.8/site-packages/numba/core/decorators.py:262: NumbaDeprecationWarning: numba.generated_jit is deprecated. Please see the documentation at: https://numba.readthedocs.io/en/stable/reference/deprecation.html#deprecation-of-generated-jit for more information and advice on a suitable replacement.\n",
      "  warnings.warn(msg, NumbaDeprecationWarning)\n"
     ]
    },
    {
     "data": {
      "text/plain": [
       "(1^e12)"
      ]
     },
     "execution_count": 5,
     "metadata": {},
     "output_type": "execute_result"
    }
   ],
   "source": [
    "e1^e2"
   ]
  },
  {
   "cell_type": "code",
   "execution_count": 6,
   "id": "bc5d82c7",
   "metadata": {},
   "outputs": [
    {
     "data": {
      "text/plain": [
       "-(1.0^e1) + (1.0^e2)"
      ]
     },
     "execution_count": 6,
     "metadata": {},
     "output_type": "execute_result"
    }
   ],
   "source": [
    "a = e1 + e2\n",
    "n = e1\n",
    "-n * a * n.inv()"
   ]
  },
  {
   "cell_type": "code",
   "execution_count": 7,
   "id": "da127dea",
   "metadata": {},
   "outputs": [
    {
     "data": {
      "text/plain": [
       "0.70711 + (0.70711^e12)"
      ]
     },
     "execution_count": 7,
     "metadata": {},
     "output_type": "execute_result"
    }
   ],
   "source": [
    "from math import e, pi\n",
    "\n",
    "R = e**(pi/4 * e12) # enacts rotation by pi/2\n",
    "R"
   ]
  },
  {
   "cell_type": "code",
   "execution_count": 8,
   "id": "c040b610",
   "metadata": {},
   "outputs": [
    {
     "data": {
      "text/plain": [
       "-(1.0^e2)"
      ]
     },
     "execution_count": 8,
     "metadata": {},
     "output_type": "execute_result"
    }
   ],
   "source": [
    "R*e1*~R # I kinda expected this to be 1.0^e2 does this mean the orientation of the plane is such that this is like a counterclockwise rotation by pi/2"
   ]
  },
  {
   "cell_type": "code",
   "execution_count": 9,
   "id": "83985599",
   "metadata": {},
   "outputs": [
    {
     "data": {
      "text/plain": [
       "{'': 1,\n",
       " 'e1': (1^e1),\n",
       " 'e2': (1^e2),\n",
       " 'e3': (1^e3),\n",
       " 'e12': (1^e12),\n",
       " 'e13': (1^e13),\n",
       " 'e23': (1^e23),\n",
       " 'e123': (1^e123)}"
      ]
     },
     "execution_count": 9,
     "metadata": {},
     "output_type": "execute_result"
    }
   ],
   "source": [
    "layout, blades = cf.Cl(3)\n",
    "blades"
   ]
  },
  {
   "cell_type": "code",
   "execution_count": 10,
   "id": "3e141f37",
   "metadata": {},
   "outputs": [],
   "source": [
    "locals().update(blades) # when working in interactive session, this updates the namespace with all of the blades at once\n"
   ]
  },
  {
   "cell_type": "code",
   "execution_count": 19,
   "id": "aa8ac235",
   "metadata": {},
   "outputs": [
    {
     "data": {
      "text/plain": [
       "1 + (2^e1) + (3^e12) + (4^e123)"
      ]
     },
     "execution_count": 19,
     "metadata": {},
     "output_type": "execute_result"
    }
   ],
   "source": [
    "A = 1 + 2*e1 + 3*e12 + 4*e123\n",
    "A"
   ]
  },
  {
   "cell_type": "code",
   "execution_count": 21,
   "id": "1790dcc9",
   "metadata": {},
   "outputs": [
    {
     "data": {
      "text/plain": [
       "4 + (3^e3) - (2^e23) - (1^e123)"
      ]
     },
     "execution_count": 21,
     "metadata": {},
     "output_type": "execute_result"
    }
   ],
   "source": [
    "# Grade Projection\n",
    "A(1)\n",
    "# Dual\n",
    "A.dual()"
   ]
  },
  {
   "cell_type": "markdown",
   "id": "1c810d1e",
   "metadata": {},
   "source": [
    "## Vector Transformations in Linear Algebra"
   ]
  },
  {
   "cell_type": "code",
   "execution_count": 22,
   "id": "4789fe4d",
   "metadata": {},
   "outputs": [],
   "source": [
    "import numpy as np\n",
    "\n",
    "rot_and_scale_x = np.array([\n",
    "    [1, 0, 0],\n",
    "    [0, 1, -1],\n",
    "    [0, 1, 1],\n",
    "])"
   ]
  },
  {
   "cell_type": "code",
   "execution_count": 23,
   "id": "79be457e",
   "metadata": {},
   "outputs": [],
   "source": [
    "def show_table(data, cols, rows):\n",
    "    import pandas as pd; return pd.DataFrame(data, columns = cols, index=rows)"
   ]
  },
  {
   "cell_type": "code",
   "execution_count": 24,
   "id": "b0c2092e",
   "metadata": {},
   "outputs": [
    {
     "data": {
      "text/html": [
       "<div>\n",
       "<style scoped>\n",
       "    .dataframe tbody tr th:only-of-type {\n",
       "        vertical-align: middle;\n",
       "    }\n",
       "\n",
       "    .dataframe tbody tr th {\n",
       "        vertical-align: top;\n",
       "    }\n",
       "\n",
       "    .dataframe thead th {\n",
       "        text-align: right;\n",
       "    }\n",
       "</style>\n",
       "<table border=\"1\" class=\"dataframe\">\n",
       "  <thead>\n",
       "    <tr style=\"text-align: right;\">\n",
       "      <th></th>\n",
       "      <th>$\\mathit{in}_x$</th>\n",
       "      <th>$\\mathit{in}_y$</th>\n",
       "      <th>$\\mathit{in}_z$</th>\n",
       "    </tr>\n",
       "  </thead>\n",
       "  <tbody>\n",
       "    <tr>\n",
       "      <th>$\\mathit{out}_x$</th>\n",
       "      <td>1</td>\n",
       "      <td>0</td>\n",
       "      <td>0</td>\n",
       "    </tr>\n",
       "    <tr>\n",
       "      <th>$\\mathit{out}_y$</th>\n",
       "      <td>0</td>\n",
       "      <td>1</td>\n",
       "      <td>-1</td>\n",
       "    </tr>\n",
       "    <tr>\n",
       "      <th>$\\mathit{out}_z$</th>\n",
       "      <td>0</td>\n",
       "      <td>1</td>\n",
       "      <td>1</td>\n",
       "    </tr>\n",
       "  </tbody>\n",
       "</table>\n",
       "</div>"
      ],
      "text/plain": [
       "                  $\\mathit{in}_x$  $\\mathit{in}_y$  $\\mathit{in}_z$\n",
       "$\\mathit{out}_x$                1                0                0\n",
       "$\\mathit{out}_y$                0                1               -1\n",
       "$\\mathit{out}_z$                0                1                1"
      ]
     },
     "execution_count": 24,
     "metadata": {},
     "output_type": "execute_result"
    }
   ],
   "source": [
    "show_table(rot_and_scale_x, [\"$\\mathit{in}_%s$\" % c for c in \"xyz\"], [\"$\\mathit{out}_%s$\" % c for c in \"xyz\"])"
   ]
  },
  {
   "cell_type": "code",
   "execution_count": 25,
   "id": "170b114d",
   "metadata": {},
   "outputs": [
    {
     "data": {
      "text/plain": [
       "(array([1, 0, 0]), array([0, 1, 1]), array([ 0, -1,  1]))"
      ]
     },
     "execution_count": 25,
     "metadata": {},
     "output_type": "execute_result"
    }
   ],
   "source": [
    "v1 = np.array([1, 0, 0])\n",
    "v2 = np.array([0, 1, 0])\n",
    "v3 = np.array([0, 0, 1])\n",
    "\n",
    "(\n",
    "    rot_and_scale_x @ v1,\n",
    "    rot_and_scale_x @ v2,\n",
    "    rot_and_scale_x @ v3,\n",
    ")"
   ]
  },
  {
   "cell_type": "code",
   "execution_count": 30,
   "id": "c68fbc29",
   "metadata": {},
   "outputs": [],
   "source": [
    "assert np.array_equal(\n",
    "    rot_and_scale_x @ (2*v1 + 3*v2),\n",
    "    2 * (rot_and_scale_x @ v1) + 3 * (rot_and_scale_x @ v2)\n",
    ")"
   ]
  },
  {
   "cell_type": "markdown",
   "id": "29e66cfc",
   "metadata": {},
   "source": [
    "## Multivector Transformations in Geometric Algebra"
   ]
  },
  {
   "cell_type": "code",
   "execution_count": 33,
   "id": "139e3b53",
   "metadata": {},
   "outputs": [
    {
     "data": {
      "text/plain": [
       "(2.0^e1) + (3.0^e2) + (3.0^e3)"
      ]
     },
     "execution_count": 33,
     "metadata": {},
     "output_type": "execute_result"
    }
   ],
   "source": [
    "from clifford.g3 import * # stuff for 3D euclidean space GA Cl(3,0)\n",
    "\n",
    "v = 2*e1 + 3*e2\n",
    "v_trans = layout.MultiVector()\n",
    "v_trans[1,], v_trans[2,], v_trans[3,] = rot_and_scale_x @ [v[1,], v[2,], v[3,]]\n",
    "v_trans # this is the vector transformed by the matrix"
   ]
  },
  {
   "cell_type": "code",
   "execution_count": 34,
   "id": "577261a2",
   "metadata": {},
   "outputs": [
    {
     "data": {
      "text/plain": [
       "[2, 3, 0]"
      ]
     },
     "execution_count": 34,
     "metadata": {},
     "output_type": "execute_result"
    }
   ],
   "source": [
    "[v[1,], v[2,], v[3,]]"
   ]
  },
  {
   "cell_type": "code",
   "execution_count": 35,
   "id": "e13ee262",
   "metadata": {},
   "outputs": [
    {
     "data": {
      "text/plain": [
       "array([[ 1,  0,  0],\n",
       "       [ 0,  1, -1],\n",
       "       [ 0,  1,  1]])"
      ]
     },
     "execution_count": 35,
     "metadata": {},
     "output_type": "execute_result"
    }
   ],
   "source": [
    "rot_and_scale_x"
   ]
  },
  {
   "cell_type": "code",
   "execution_count": 36,
   "id": "e2ad797d",
   "metadata": {},
   "outputs": [
    {
     "name": "stderr",
     "output_type": "stream",
     "text": [
      "/Library/Frameworks/Python.framework/Versions/3.8/lib/python3.8/site-packages/numba/core/decorators.py:262: NumbaDeprecationWarning: numba.generated_jit is deprecated. Please see the documentation at: https://numba.readthedocs.io/en/stable/reference/deprecation.html#deprecation-of-generated-jit for more information and advice on a suitable replacement.\n",
      "  warnings.warn(msg, NumbaDeprecationWarning)\n"
     ]
    }
   ],
   "source": [
    "from clifford import transformations\n",
    "\n",
    "rot_and_scale_x_ga = transformations.OutermorphismMatrix(rot_and_scale_x, layout)"
   ]
  },
  {
   "cell_type": "code",
   "execution_count": 39,
   "id": "5828ebfc",
   "metadata": {},
   "outputs": [
    {
     "data": {
      "text/plain": [
       "(1^e12) + (1^e13)"
      ]
     },
     "execution_count": 39,
     "metadata": {},
     "output_type": "execute_result"
    }
   ],
   "source": [
    "rot_and_scale_x_ga(e12)"
   ]
  },
  {
   "cell_type": "code",
   "execution_count": 38,
   "id": "815c013e",
   "metadata": {},
   "outputs": [
    {
     "data": {
      "text/plain": [
       "(1^e12) + (1^e13)"
      ]
     },
     "execution_count": 38,
     "metadata": {},
     "output_type": "execute_result"
    }
   ],
   "source": [
    "# check it's an outermorphism\n",
    "rot_and_scale_x_ga(e1) ^ rot_and_scale_x_ga(e2)"
   ]
  },
  {
   "cell_type": "code",
   "execution_count": 40,
   "id": "6e0bcd76",
   "metadata": {},
   "outputs": [
    {
     "data": {
      "text/plain": [
       "(2.0, (2^e123))"
      ]
     },
     "execution_count": 40,
     "metadata": {},
     "output_type": "execute_result"
    }
   ],
   "source": [
    "np.linalg.det(rot_and_scale_x), rot_and_scale_x_ga(layout.I)"
   ]
  },
  {
   "cell_type": "code",
   "execution_count": 41,
   "id": "7ba563c8",
   "metadata": {},
   "outputs": [
    {
     "data": {
      "text/html": [
       "<div>\n",
       "<style scoped>\n",
       "    .dataframe tbody tr th:only-of-type {\n",
       "        vertical-align: middle;\n",
       "    }\n",
       "\n",
       "    .dataframe tbody tr th {\n",
       "        vertical-align: top;\n",
       "    }\n",
       "\n",
       "    .dataframe thead th {\n",
       "        text-align: right;\n",
       "    }\n",
       "</style>\n",
       "<table border=\"1\" class=\"dataframe\">\n",
       "  <thead>\n",
       "    <tr style=\"text-align: right;\">\n",
       "      <th></th>\n",
       "      <th>$\\mathit{in}_{}$</th>\n",
       "      <th>$\\mathit{in}_{e1}$</th>\n",
       "      <th>$\\mathit{in}_{e2}$</th>\n",
       "      <th>$\\mathit{in}_{e3}$</th>\n",
       "      <th>$\\mathit{in}_{e12}$</th>\n",
       "      <th>$\\mathit{in}_{e13}$</th>\n",
       "      <th>$\\mathit{in}_{e23}$</th>\n",
       "      <th>$\\mathit{in}_{e123}$</th>\n",
       "    </tr>\n",
       "  </thead>\n",
       "  <tbody>\n",
       "    <tr>\n",
       "      <th>$\\mathit{out}_{}$</th>\n",
       "      <td>1</td>\n",
       "      <td>0</td>\n",
       "      <td>0</td>\n",
       "      <td>0</td>\n",
       "      <td>0</td>\n",
       "      <td>0</td>\n",
       "      <td>0</td>\n",
       "      <td>0</td>\n",
       "    </tr>\n",
       "    <tr>\n",
       "      <th>$\\mathit{out}_{e1}$</th>\n",
       "      <td>0</td>\n",
       "      <td>1</td>\n",
       "      <td>0</td>\n",
       "      <td>0</td>\n",
       "      <td>0</td>\n",
       "      <td>0</td>\n",
       "      <td>0</td>\n",
       "      <td>0</td>\n",
       "    </tr>\n",
       "    <tr>\n",
       "      <th>$\\mathit{out}_{e2}$</th>\n",
       "      <td>0</td>\n",
       "      <td>0</td>\n",
       "      <td>1</td>\n",
       "      <td>-1</td>\n",
       "      <td>0</td>\n",
       "      <td>0</td>\n",
       "      <td>0</td>\n",
       "      <td>0</td>\n",
       "    </tr>\n",
       "    <tr>\n",
       "      <th>$\\mathit{out}_{e3}$</th>\n",
       "      <td>0</td>\n",
       "      <td>0</td>\n",
       "      <td>1</td>\n",
       "      <td>1</td>\n",
       "      <td>0</td>\n",
       "      <td>0</td>\n",
       "      <td>0</td>\n",
       "      <td>0</td>\n",
       "    </tr>\n",
       "    <tr>\n",
       "      <th>$\\mathit{out}_{e12}$</th>\n",
       "      <td>0</td>\n",
       "      <td>0</td>\n",
       "      <td>0</td>\n",
       "      <td>0</td>\n",
       "      <td>1</td>\n",
       "      <td>-1</td>\n",
       "      <td>0</td>\n",
       "      <td>0</td>\n",
       "    </tr>\n",
       "    <tr>\n",
       "      <th>$\\mathit{out}_{e13}$</th>\n",
       "      <td>0</td>\n",
       "      <td>0</td>\n",
       "      <td>0</td>\n",
       "      <td>0</td>\n",
       "      <td>1</td>\n",
       "      <td>1</td>\n",
       "      <td>0</td>\n",
       "      <td>0</td>\n",
       "    </tr>\n",
       "    <tr>\n",
       "      <th>$\\mathit{out}_{e23}$</th>\n",
       "      <td>0</td>\n",
       "      <td>0</td>\n",
       "      <td>0</td>\n",
       "      <td>0</td>\n",
       "      <td>0</td>\n",
       "      <td>0</td>\n",
       "      <td>2</td>\n",
       "      <td>0</td>\n",
       "    </tr>\n",
       "    <tr>\n",
       "      <th>$\\mathit{out}_{e123}$</th>\n",
       "      <td>0</td>\n",
       "      <td>0</td>\n",
       "      <td>0</td>\n",
       "      <td>0</td>\n",
       "      <td>0</td>\n",
       "      <td>0</td>\n",
       "      <td>0</td>\n",
       "      <td>2</td>\n",
       "    </tr>\n",
       "  </tbody>\n",
       "</table>\n",
       "</div>"
      ],
      "text/plain": [
       "                       $\\mathit{in}_{}$  $\\mathit{in}_{e1}$  \\\n",
       "$\\mathit{out}_{}$                     1                   0   \n",
       "$\\mathit{out}_{e1}$                   0                   1   \n",
       "$\\mathit{out}_{e2}$                   0                   0   \n",
       "$\\mathit{out}_{e3}$                   0                   0   \n",
       "$\\mathit{out}_{e12}$                  0                   0   \n",
       "$\\mathit{out}_{e13}$                  0                   0   \n",
       "$\\mathit{out}_{e23}$                  0                   0   \n",
       "$\\mathit{out}_{e123}$                 0                   0   \n",
       "\n",
       "                       $\\mathit{in}_{e2}$  $\\mathit{in}_{e3}$  \\\n",
       "$\\mathit{out}_{}$                       0                   0   \n",
       "$\\mathit{out}_{e1}$                     0                   0   \n",
       "$\\mathit{out}_{e2}$                     1                  -1   \n",
       "$\\mathit{out}_{e3}$                     1                   1   \n",
       "$\\mathit{out}_{e12}$                    0                   0   \n",
       "$\\mathit{out}_{e13}$                    0                   0   \n",
       "$\\mathit{out}_{e23}$                    0                   0   \n",
       "$\\mathit{out}_{e123}$                   0                   0   \n",
       "\n",
       "                       $\\mathit{in}_{e12}$  $\\mathit{in}_{e13}$  \\\n",
       "$\\mathit{out}_{}$                        0                    0   \n",
       "$\\mathit{out}_{e1}$                      0                    0   \n",
       "$\\mathit{out}_{e2}$                      0                    0   \n",
       "$\\mathit{out}_{e3}$                      0                    0   \n",
       "$\\mathit{out}_{e12}$                     1                   -1   \n",
       "$\\mathit{out}_{e13}$                     1                    1   \n",
       "$\\mathit{out}_{e23}$                     0                    0   \n",
       "$\\mathit{out}_{e123}$                    0                    0   \n",
       "\n",
       "                       $\\mathit{in}_{e23}$  $\\mathit{in}_{e123}$  \n",
       "$\\mathit{out}_{}$                        0                     0  \n",
       "$\\mathit{out}_{e1}$                      0                     0  \n",
       "$\\mathit{out}_{e2}$                      0                     0  \n",
       "$\\mathit{out}_{e3}$                      0                     0  \n",
       "$\\mathit{out}_{e12}$                     0                     0  \n",
       "$\\mathit{out}_{e13}$                     0                     0  \n",
       "$\\mathit{out}_{e23}$                     2                     0  \n",
       "$\\mathit{out}_{e123}$                    0                     2  "
      ]
     },
     "execution_count": 41,
     "metadata": {},
     "output_type": "execute_result"
    }
   ],
   "source": [
    "show_table(rot_and_scale_x_ga._matrix, [\"$\\mathit{in}_{%s}$\" % c for c in layout.names], [\"$\\mathit{out}_{%s}$\" % c for c in layout.names])"
   ]
  },
  {
   "cell_type": "markdown",
   "id": "98f5d179",
   "metadata": {},
   "source": [
    "### Trying to represent the matrix with a grade 2 irreducible eigenblade using $\\sum_k A_k a B_k$ notation"
   ]
  },
  {
   "cell_type": "code",
   "execution_count": 42,
   "id": "e1e1e087",
   "metadata": {},
   "outputs": [
    {
     "name": "stderr",
     "output_type": "stream",
     "text": [
      "/Library/Frameworks/Python.framework/Versions/3.8/lib/python3.8/site-packages/numba/core/decorators.py:262: NumbaDeprecationWarning: numba.generated_jit is deprecated. Please see the documentation at: https://numba.readthedocs.io/en/stable/reference/deprecation.html#deprecation-of-generated-jit for more information and advice on a suitable replacement.\n",
      "  warnings.warn(msg, NumbaDeprecationWarning)\n"
     ]
    },
    {
     "name": "stdout",
     "output_type": "stream",
     "text": [
      "T(e1): (1.0^e2)\n",
      "T(e2): -(1.0^e1)\n",
      "T(e3): (1.0^e3)\n"
     ]
    }
   ],
   "source": [
    "# Define basis vectors\n",
    "e1, e2, e3 = blades['e1'], blades['e2'], blades['e3']\n",
    "\n",
    "# Rotor for +90° rotation in e1-e2 plane\n",
    "theta = np.pi / 2\n",
    "R = np.cos(theta/2) - np.sin(theta/2) * (e1 ^ e2)\n",
    "R_rev = ~R  # Reverse of rotor\n",
    "\n",
    "# Define the transformation T(a) = R a R̃\n",
    "def T(a):\n",
    "    return R * a * R_rev\n",
    "\n",
    "# Test on basis vectors\n",
    "print(\"T(e1):\", T(e1))  # should be e2\n",
    "print(\"T(e2):\", T(e2))  # should be -e1\n",
    "print(\"T(e3):\", T(e3))  # should be e3"
   ]
  },
  {
   "cell_type": "markdown",
   "id": "25f60100",
   "metadata": {},
   "source": [
    "Basically I want some alternative more complicated decomposition into things that aren't necessarily rotors. below doesn't work right now."
   ]
  },
  {
   "cell_type": "code",
   "execution_count": 45,
   "id": "495736f1",
   "metadata": {},
   "outputs": [
    {
     "name": "stdout",
     "output_type": "stream",
     "text": [
      "T_other(e1): -(1.0^e1)\n",
      "T_other(e2): -(1.0^e2)\n",
      "T_other(e3): (1.0^e3) + (1.0^e123)\n"
     ]
    }
   ],
   "source": [
    "def T_other(a):\n",
    "    return 0.5 * (e2 * a * e1 - e1 * a * e2) + e3 * a * e3\n",
    "\n",
    "# Test on basis vectors\n",
    "print(\"T_other(e1):\", T_other(e1))  # should be e2\n",
    "print(\"T_other(e2):\", T_other(e2))  # should be -e1\n",
    "print(\"T_other(e3):\", T_other(e3))  # should be e3"
   ]
  },
  {
   "cell_type": "code",
   "execution_count": null,
   "id": "249363a4",
   "metadata": {},
   "outputs": [],
   "source": []
  },
  {
   "cell_type": "code",
   "execution_count": null,
   "id": "d85456cd",
   "metadata": {},
   "outputs": [],
   "source": []
  }
 ],
 "metadata": {
  "kernelspec": {
   "display_name": "Python 3 (ipykernel)",
   "language": "python",
   "name": "python3"
  },
  "language_info": {
   "codemirror_mode": {
    "name": "ipython",
    "version": 3
   },
   "file_extension": ".py",
   "mimetype": "text/x-python",
   "name": "python",
   "nbconvert_exporter": "python",
   "pygments_lexer": "ipython3",
   "version": "3.8.10"
  }
 },
 "nbformat": 4,
 "nbformat_minor": 5
}
